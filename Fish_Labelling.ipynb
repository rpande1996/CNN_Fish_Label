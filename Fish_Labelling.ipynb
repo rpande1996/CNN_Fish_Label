{
 "cells": [
  {
   "cell_type": "code",
   "execution_count": null,
   "metadata": {},
   "outputs": [],
   "source": [
    "import tensorflow as tf"
   ]
  },
  {
   "cell_type": "code",
   "execution_count": null,
   "metadata": {},
   "outputs": [],
   "source": [
    "for device in tf.config.experimental.list_physical_devices(\"GPU\"):\n",
    "    tf.config.experimental.set_memory_growth(device, True)"
   ]
  },
  {
   "cell_type": "code",
   "execution_count": null,
   "metadata": {},
   "outputs": [],
   "source": [
    "tf.__version__"
   ]
  },
  {
   "cell_type": "code",
   "execution_count": null,
   "metadata": {},
   "outputs": [],
   "source": [
    "from tensorflow.keras.preprocessing.image import ImageDataGenerator"
   ]
  },
  {
   "cell_type": "code",
   "execution_count": null,
   "metadata": {},
   "outputs": [],
   "source": [
    "w=128\n",
    "h=128\n",
    "batch_size=32 #change this and get graphs\n",
    "directory = r\"\" #replace this with your directory\n",
    "data = \"\\Fish_Dataset\\Fish_Dataset\"\n",
    "data_dir = directory + data\n",
    "from tensorflow.keras.preprocessing import image_dataset_from_directory\n",
    "train = image_dataset_from_directory(\n",
    "  data_dir,\n",
    "  validation_split=0.2,\n",
    "  subset=\"training\",\n",
    "  seed=123,\n",
    "    label_mode='categorical',\n",
    "  image_size=(h, w),\n",
    "  batch_size=batch_size)\n",
    "test =image_dataset_from_directory(\n",
    "  data_dir,\n",
    "  validation_split=0.2,\n",
    "  subset=\"validation\",\n",
    "    label_mode='categorical',\n",
    "  seed=123,\n",
    "  image_size=(h,w),\n",
    "  batch_size=batch_size)"
   ]
  },
  {
   "cell_type": "code",
   "execution_count": null,
   "metadata": {},
   "outputs": [],
   "source": [
    "AUTOTUNE = tf.data.AUTOTUNE\n",
    "\n",
    "train = train.cache().prefetch(buffer_size=AUTOTUNE)\n",
    "test = test.cache().prefetch(buffer_size=AUTOTUNE)"
   ]
  },
  {
   "cell_type": "code",
   "execution_count": null,
   "metadata": {},
   "outputs": [],
   "source": [
    "from tensorflow.keras import Sequential\n",
    "from tensorflow.keras import Sequential,layers"
   ]
  },
  {
   "cell_type": "code",
   "execution_count": null,
   "metadata": {},
   "outputs": [],
   "source": [
    "w=128\n",
    "h=128\n",
    "classes=9\n",
    "classs=Sequential()\n",
    "#model.add(tf.keras.layers.experimental.preprocessing.Rescaling\n",
    "#(1./255,input_shape=(image_width,image_height,3)))\n",
    "#(1./255))\n",
    "classs.add(layers.Conv2D(filters=64,kernel_size=3,padding=\"same\",activation='relu',input_shape=(w,h,3)))\n",
    "classs.add(layers.Conv2D(filters=64,kernel_size=3,padding=\"same\",activation='relu'))\n",
    "classs.add(layers.MaxPooling2D(pool_size=(2,2),strides=(2,2)))\n",
    "classs.add(layers.Conv2D(filters=128,kernel_size=3,padding=\"same\",activation='relu'))\n",
    "classs.add(layers.Conv2D(filters=128,kernel_size=3,padding=\"same\",activation='relu'))\n",
    "classs.add(layers.MaxPooling2D(pool_size=(2,2),strides=(2,2)))\n",
    "classs.add(layers.Conv2D(filters=256,kernel_size=3,padding=\"same\",activation='relu'))\n",
    "classs.add(layers.Conv2D(filters=256,kernel_size=3,padding=\"same\",activation='relu'))\n",
    "classs.add(layers.Conv2D(filters=256,kernel_size=3,padding=\"same\",activation='relu'))\n",
    "classs.add(layers.MaxPooling2D(pool_size=(2,2),strides=(2,2)))\n",
    "classs.add(layers.Conv2D(filters=512,kernel_size=3,padding=\"same\",activation='relu'))\n",
    "classs.add(layers.Conv2D(filters=512,kernel_size=3,padding=\"same\",activation='relu'))\n",
    "classs.add(layers.Conv2D(filters=512,kernel_size=3,padding=\"same\",activation='relu'))\n",
    "classs.add(layers.MaxPooling2D(pool_size=(2,2),strides=(2,2)))\n",
    "classs.add(layers.Conv2D(filters=512,kernel_size=3,padding=\"same\",activation='relu'))\n",
    "classs.add(layers.Conv2D(filters=512,kernel_size=3,padding=\"same\",activation='relu'))\n",
    "classs.add(layers.Conv2D(filters=512,kernel_size=3,padding=\"same\",activation='relu'))\n",
    "classs.add(layers.MaxPooling2D(pool_size=(2,2),strides=(2,2)))\n",
    "classs.add(layers.Flatten())\n",
    "classs.add(layers.Dense(4090,'relu'))\n",
    "classs.add(layers.Dense(4090,'relu'))\n",
    "classs.add(layers.Dense(classes,'softmax'))"
   ]
  },
  {
   "cell_type": "code",
   "execution_count": null,
   "metadata": {},
   "outputs": [],
   "source": [
    "classs.summary()"
   ]
  },
  {
   "cell_type": "code",
   "execution_count": null,
   "metadata": {},
   "outputs": [],
   "source": [
    "import tensorboard"
   ]
  },
  {
   "cell_type": "code",
   "execution_count": null,
   "metadata": {},
   "outputs": [],
   "source": [
    "classs.compile(\n",
    "  optimizer='adam',\n",
    "  loss='binary_crossentropy',\n",
    "  metrics=['accuracy'])"
   ]
  },
  {
   "cell_type": "code",
   "execution_count": null,
   "metadata": {},
   "outputs": [],
   "source": [
    "from datetime import datetime\n",
    "logdir = \"logs/fit/\" + datetime.now().strftime(\"%Y%m%d-%H%M%S\")\n",
    "tensorboard_callback = tf.keras.callbacks.TensorBoard(log_dir=logdir)\n",
    "\n",
    "history = classs.fit(\n",
    "  train,\n",
    "  validation_data=test,\n",
    "  epochs=10,callbacks=[tensorboard_callback]\n",
    ")"
   ]
  },
  {
   "cell_type": "code",
   "execution_count": null,
   "metadata": {},
   "outputs": [],
   "source": [
    "%tensorboard --logdir logs/scalars/"
   ]
  },
  {
   "cell_type": "code",
   "execution_count": null,
   "metadata": {},
   "outputs": [],
   "source": [
    "%tensorboard --inspect --logdir logs/scalars/"
   ]
  },
  {
   "cell_type": "code",
   "execution_count": null,
   "metadata": {},
   "outputs": [],
   "source": [
    "%load_ext tensorboard"
   ]
  },
  {
   "cell_type": "code",
   "execution_count": null,
   "metadata": {},
   "outputs": [],
   "source": [
    "%tensorboard --logdir path"
   ]
  },
  {
   "cell_type": "code",
   "execution_count": null,
   "metadata": {
    "scrolled": true
   },
   "outputs": [],
   "source": [
    "%tensorboard --logdir=logdir --host=0.0.0.0"
   ]
  },
  {
   "cell_type": "code",
   "execution_count": null,
   "metadata": {},
   "outputs": [],
   "source": [
    "%tensorboard --logdir {logs_base_dir}  --host localhost"
   ]
  }
 ],
 "metadata": {
  "kernelspec": {
   "display_name": "pytorch",
   "language": "python",
   "name": "pytorch"
  },
  "language_info": {
   "codemirror_mode": {
    "name": "ipython",
    "version": 3
   },
   "file_extension": ".py",
   "mimetype": "text/x-python",
   "name": "python",
   "nbconvert_exporter": "python",
   "pygments_lexer": "ipython3",
   "version": "3.7.11"
  }
 },
 "nbformat": 4,
 "nbformat_minor": 4
}
